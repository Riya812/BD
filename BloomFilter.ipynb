{
 "cells": [
  {
   "cell_type": "code",
   "execution_count": 1,
   "id": "7dda6242-add3-4d8c-a8a1-02d04c8971da",
   "metadata": {},
   "outputs": [
    {
     "name": "stdin",
     "output_type": "stream",
     "text": [
      "Enter size of Bloom Filter: 20\n"
     ]
    },
    {
     "name": "stdout",
     "output_type": "stream",
     "text": [
      "Initial bloom filter\n",
      " [0 0 0 0 0 0 0 0 0 0 0 0 0 0 0 0 0 0 0 0]\n"
     ]
    },
    {
     "name": "stdin",
     "output_type": "stream",
     "text": [
      "Enter no of elements to be inserted:  4\n",
      "Enter element:  2\n",
      "Enter element:  5\n",
      "Enter element:  7\n",
      "Enter element:  4\n"
     ]
    },
    {
     "name": "stdout",
     "output_type": "stream",
     "text": [
      "Elements to be inserted\n",
      " [2, 5, 7, 4]\n",
      "Bloom filter after insertion\n",
      " [1 0 1 1 0 1 1 0 1 1 0 0 0 0 0 0 0 0 0 0]\n"
     ]
    },
    {
     "name": "stdin",
     "output_type": "stream",
     "text": [
      "Enter no of elements to be searched:  2\n",
      "Enter element:  5\n",
      "Enter element:  6\n"
     ]
    },
    {
     "name": "stdout",
     "output_type": "stream",
     "text": [
      "Elements to be searched\n",
      " [5, 6]\n",
      "5  is present\n"
     ]
    }
   ],
   "source": [
    "import numpy as np\n",
    "\n",
    "#size of bloom filter\n",
    "n = int(input('Enter size of Bloom Filter:'))\n",
    "bloom = np.zeros(n, dtype=int)\n",
    "print('Initial bloom filter\\n',bloom)\n",
    "\n",
    "#hash functions\n",
    "def h1(x):\n",
    "  return (x+1)%13 #x+1mod13\n",
    "def h2(x):\n",
    "  return (2*x+5)%13\n",
    "\n",
    "#no. of elements inserted and individual elements\n",
    "insert_no = int(input('Enter no of elements to be inserted: '))\n",
    "insert_list = []\n",
    "for i in range(insert_no):\n",
    "    insert_list.append(int(input('Enter element: ')))\n",
    "print('Elements to be inserted\\n',insert_list)\n",
    "\n",
    "#insert list\n",
    "for i in insert_list:\n",
    "  bloom[h1(i)] = 1\n",
    "  bloom[h2(i)] = 1\n",
    "print('Bloom filter after insertion\\n',bloom)\n",
    "\n",
    "\n",
    "#search list\n",
    "search_no = int(input('Enter no of elements to be searched: '))\n",
    "search_list = []\n",
    "for i in range(search_no):\n",
    "  search_list.append(int(input('Enter element: ')))\n",
    "print('Elements to be searched\\n',search_list)\n",
    "\n",
    "\n",
    "for i in search_list:\n",
    "  if bloom[h1(i)] == 1 and bloom[h2(i)] == 1:\n",
    "    print(i,' is present')"
   ]
  }
 ],
 "metadata": {
  "kernelspec": {
   "display_name": "Python 3 (ipykernel)",
   "language": "python",
   "name": "python3"
  },
  "language_info": {
   "codemirror_mode": {
    "name": "ipython",
    "version": 3
   },
   "file_extension": ".py",
   "mimetype": "text/x-python",
   "name": "python",
   "nbconvert_exporter": "python",
   "pygments_lexer": "ipython3",
   "version": "3.11.7"
  }
 },
 "nbformat": 4,
 "nbformat_minor": 5
}
