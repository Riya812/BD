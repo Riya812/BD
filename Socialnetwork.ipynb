{
 "cells": [
  {
   "cell_type": "code",
   "execution_count": null,
   "id": "b1aa301f-379f-4299-8739-daba34dd397a",
   "metadata": {},
   "outputs": [],
   "source": [
    "import pandas as pd\n",
    "import networkx as nx\n",
    "import matplotlib.pyplot as plt\n",
    "from IPython.display import display\n",
    "from networkx.algorithms import community\n",
    "\n",
    "# Load the nodes and edges from CSV files\n",
    "nodes_df = pd.read_csv(\"C:\\\\Users\\\\Lalit\\\\OneDrive\\\\Desktop\\\\CODES\\\\BIG DATA\\\\node.csv\")\n",
    "edges_df = pd.read_csv(\"C:\\\\Users\\\\Lalit\\\\OneDrive\\\\Desktop\\\\CODES\\\\BIG DATA\\\\edge.csv\")\n",
    "\n",
    "# Create a directed graph\n",
    "G = nx.DiGraph()\n",
    "\n",
    "# Add nodes to the graph\n",
    "for index, row in nodes_df.iterrows():\n",
    "    G.add_node(row['Node ID'], name=row['Name'], age=row['Age'], gender=row['Gender'], occupation=row['Occupation'])\n",
    "\n",
    "# Add edges to the graph\n",
    "for index, row in edges_df.iterrows():\n",
    "    G.add_edge(row['Source'], row['Target'])\n",
    "\n",
    "# Draw the graph\n",
    "plt.figure(figsize=(12, 8))\n",
    "pos = nx.spring_layout(G)\n",
    "nx.draw(G, pos, with_labels=True, node_color='lightblue', node_size=1800, font_size=10, font_color='black', font_weight='bold')\n",
    "\n",
    "# Draw edge labels (weights)\n",
    "edge_labels = nx.get_edge_attributes(G, 'weight')\n",
    "nx.draw_networkx_edge_labels(G, pos, edge_labels=edge_labels)\n",
    "\n",
    "plt.title('Social Network Graph')\n",
    "plt.show()"
   ]
  },
  {
   "cell_type": "code",
   "execution_count": null,
   "id": "f39cb37a-43b7-4ea1-9357-24e416e640e0",
   "metadata": {},
   "outputs": [],
   "source": []
  },
  {
   "cell_type": "code",
   "execution_count": null,
   "id": "66458922-cffc-4138-bf3a-82732ebee811",
   "metadata": {},
   "outputs": [],
   "source": []
  }
 ],
 "metadata": {
  "kernelspec": {
   "display_name": "Python 3 (ipykernel)",
   "language": "python",
   "name": "python3"
  },
  "language_info": {
   "codemirror_mode": {
    "name": "ipython",
    "version": 3
   },
   "file_extension": ".py",
   "mimetype": "text/x-python",
   "name": "python",
   "nbconvert_exporter": "python",
   "pygments_lexer": "ipython3",
   "version": "3.11.7"
  }
 },
 "nbformat": 4,
 "nbformat_minor": 5
}
