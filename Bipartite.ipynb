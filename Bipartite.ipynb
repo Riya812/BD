{
  "nbformat": 4,
  "nbformat_minor": 0,
  "metadata": {
    "colab": {
      "provenance": []
    },
    "kernelspec": {
      "name": "python3",
      "display_name": "Python 3"
    },
    "language_info": {
      "name": "python"
    }
  },
  "cells": [
    {
      "cell_type": "code",
      "source": [
        "!pip install pyspark"
      ],
      "metadata": {
        "id": "Jb6fybynzvwu"
      },
      "execution_count": null,
      "outputs": []
    },
    {
      "cell_type": "code",
      "source": [
        "from pyspark.sql import SparkSession\n",
        "spark = SparkSession.builder.getOrCreate()\n",
        "import pandas as pd"
      ],
      "metadata": {
        "id": "DU-yCTdnzagi"
      },
      "execution_count": null,
      "outputs": []
    },
    {
      "cell_type": "code",
      "execution_count": null,
      "metadata": {
        "colab": {
          "base_uri": "https://localhost:8080/"
        },
        "id": "e_0mg4KFzYjQ",
        "outputId": "a3bf079c-98ed-4dbb-ab4d-806576e24699"
      },
      "outputs": [
        {
          "output_type": "stream",
          "name": "stdout",
          "text": [
            "+---------+--------+-------+-----+\n",
            "|firstname|lastname|country|state|\n",
            "+---------+--------+-------+-----+\n",
            "|    James|   Smith|    USA|   CA|\n",
            "|  Michael|    Rose|    USA|   NY|\n",
            "|   Robert|Williams|    USA|   CA|\n",
            "|    Maria|   Jones|    USA|   FL|\n",
            "+---------+--------+-------+-----+\n",
            "\n"
          ]
        }
      ],
      "source": [
        "data = [(\"James\",\"Smith\",\"USA\",\"CA\"),(\"Michael\",\"Rose\",\"USA\",\"NY\"),\n",
        "    (\"Robert\",\"Williams\",\"USA\",\"CA\"),(\"Maria\",\"Jones\",\"USA\",\"FL\")\n",
        "  ]\n",
        "columns=[\"firstname\",\"lastname\",\"country\",\"state\"]\n",
        "df=spark.createDataFrame(data=data,schema=columns)\n",
        "#df.printSchema()\n",
        "df.show()\n",
        "#print(df.collect())"
      ]
    },
    {
      "cell_type": "code",
      "source": [
        "from pyspark.sql.functions import col,expr\n",
        "data=[(\"2019-01-23\",1),(\"2019-06-24\",2),(\"2019-09-20\",5)]\n",
        "spark.createDataFrame(data).toDF(\"date\",\"increment\") \\\n",
        "    .select(col(\"date\"),col(\"increment\"), \\\n",
        "      expr(\"add_months(to_date(date,'yyyy-MM-dd'),cast(increment as int))\").alias(\"inc_date\")) \\\n",
        "    .show()"
      ],
      "metadata": {
        "colab": {
          "base_uri": "https://localhost:8080/"
        },
        "id": "HW8KcF0x0P7t",
        "outputId": "05687bee-6395-4fc8-d478-4a3c2164b19b"
      },
      "execution_count": null,
      "outputs": [
        {
          "output_type": "stream",
          "name": "stdout",
          "text": [
            "+----------+---------+----------+\n",
            "|      date|increment|  inc_date|\n",
            "+----------+---------+----------+\n",
            "|2019-01-23|        1|2019-02-23|\n",
            "|2019-06-24|        2|2019-08-24|\n",
            "|2019-09-20|        5|2020-02-20|\n",
            "+----------+---------+----------+\n",
            "\n"
          ]
        }
      ]
    },
    {
      "cell_type": "code",
      "source": [
        "from pyspark.sql.functions import col\n",
        "from pyspark.sql.functions import to_timestamp, current_timestamp\n",
        "from pyspark.sql.types import StructType, StructField, StringType, IntegerType, LongType\n",
        "spark = SparkSession.builder.appName('SparkByExamples.com').getOrCreate()\n",
        "\n",
        "schema = StructType([\n",
        "            StructField(\"seq\", StringType(), True)])\n",
        "\n",
        "# Modify the data to be a list of strings\n",
        "dates = [['1']]  # Now a list containing a single-element list\n",
        "\n",
        "df = spark.createDataFrame(dates, schema=schema)\n",
        "\n",
        "df.show()"
      ],
      "metadata": {
        "colab": {
          "base_uri": "https://localhost:8080/"
        },
        "id": "Y8qzaIEi0WBI",
        "outputId": "bbe67c70-29b4-4baa-bcf8-3219b109110b"
      },
      "execution_count": null,
      "outputs": [
        {
          "output_type": "stream",
          "name": "stdout",
          "text": [
            "+---+\n",
            "|seq|\n",
            "+---+\n",
            "|  1|\n",
            "+---+\n",
            "\n"
          ]
        }
      ]
    },
    {
      "cell_type": "code",
      "source": [
        "#7\n",
        "\n",
        "\n",
        "import networkx as nx\n",
        "import matplotlib.pyplot as plt\n",
        "from networkx.algorithms import bipartite\n",
        "\n",
        "# Create a bipartite graph\n",
        "def create_bipartite_graph():\n",
        "    B = nx.Graph()\n",
        "    # Add nodes with the attribute \"bipartite\"\n",
        "    top_nodes = {1, 2, 3}\n",
        "    bottom_nodes = {'a', 'b', 'c'}\n",
        "    B.add_nodes_from(top_nodes, bipartite=0)\n",
        "    B.add_nodes_from(bottom_nodes, bipartite=1)\n",
        "\n",
        "    # Add edges between nodes in the two sets\n",
        "    edges = [(1, 'a'), (1, 'b'), (2, 'b'), (3, 'c')]\n",
        "    B.add_edges_from(edges)\n",
        "\n",
        "    return B, top_nodes, bottom_nodes\n",
        "\n",
        "# Greedy algorithm for maximum matching\n",
        "def greedy_maximum_matching(B, top_nodes, bottom_nodes):\n",
        "    matching = set()  # To store the matching pairs\n",
        "    matched_nodes = set()  # To keep track of matched nodes\n",
        "\n",
        "    # Iterate over edges greedily\n",
        "    for u, v in B.edges():\n",
        "        if u not in matched_nodes and v not in matched_nodes:\n",
        "            matching.add((u, v))\n",
        "            matched_nodes.add(u)\n",
        "            matched_nodes.add(v)\n",
        "\n",
        "    return matching\n",
        "\n",
        "# Step 1: Create a bipartite graph\n",
        "B, top_nodes, bottom_nodes = create_bipartite_graph()\n",
        "\n",
        "# Step 2: Check if the graph is bipartite\n",
        "is_bipartite = bipartite.is_bipartite(B)\n",
        "print(f\"Is the graph bipartite? {is_bipartite}\")\n",
        "\n",
        "# Step 3: Perform greedy maximum matching if bipartite\n",
        "if is_bipartite:\n",
        "    # Apply the greedy maximum matching algorithm\n",
        "    matching = greedy_maximum_matching(B, top_nodes, bottom_nodes)\n",
        "    print(f\"Greedy Maximum Matching: {matching}\")\n",
        "\n",
        "    # Step 4: Plot the graph with matching edges highlighted\n",
        "    pos = nx.bipartite_layout(B, top_nodes)\n",
        "\n",
        "    # Highlight matching edges in red\n",
        "    matching_edges = list(matching)\n",
        "    edge_colors = ['red' if (u, v) in matching_edges or (v, u) in matching_edges else 'black' for u, v in B.edges()]\n",
        "\n",
        "    # Draw the graph with the highlighted matching\n",
        "    nx.draw(B, pos, with_labels=True, edge_color=edge_colors, node_color=['lightblue' if n in top_nodes else 'lightgreen' for n in B.nodes()], node_size=2000, font_size=15)\n",
        "    plt.title(\"Bipartite Graph with Greedy Maximum Matching\")\n",
        "    plt.show()\n",
        "else:\n",
        "    print(\"The graph is not bipartite.\")"
      ],
      "metadata": {
        "colab": {
          "base_uri": "https://localhost:8080/",
          "height": 574
        },
        "id": "zSPMsRrL7a9z",
        "outputId": "bd6d511c-0eee-4d96-c3f9-24d25947dff7"
      },
      "execution_count": null,
      "outputs": [
        {
          "output_type": "stream",
          "name": "stdout",
          "text": [
            "Is the graph bipartite? True\n",
            "Greedy Maximum Matching: {(2, 'b'), (1, 'a'), (3, 'c')}\n"
          ]
        },
        {
          "output_type": "display_data",
          "data": {
            "text/plain": [
              "<Figure size 640x480 with 1 Axes>"
            ],
            "image/png": "[encoded data removed]"
          },
          "metadata": {}
        }
      ]
    }
  ]
}