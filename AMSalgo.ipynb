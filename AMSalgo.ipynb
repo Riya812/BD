{
 "cells": [
  {
   "cell_type": "code",
   "execution_count": 1,
   "id": "72625b3e-d50d-4477-96fb-685a790515d4",
   "metadata": {},
   "outputs": [
    {
     "name": "stdin",
     "output_type": "stream",
     "text": [
      "Enter no. of elements to be inserted: 10\n",
      "Enter element 1\n",
      "Enter element 2\n",
      "Enter element 3\n",
      "Enter element 4\n",
      "Enter element 5\n",
      "Enter element 7\n",
      "Enter element 1\n",
      "Enter element 5\n",
      "Enter element 2\n",
      "Enter element 3\n"
     ]
    },
    {
     "name": "stdout",
     "output_type": "stream",
     "text": [
      "Inserted elements\n",
      ": [1, 2, 3, 4, 5, 7, 1, 5, 2, 3]\n",
      "x1: 2\n",
      "x2: 3\n",
      "x3: 5\n",
      "Occurrence of 2: [1, 1] Count: 2\n",
      "Occurrence of 3: [1, 1] Count: 2\n",
      "Occurrence of 5: [1, 1] Count: 2\n",
      "2\n",
      "30\n",
      "30\n",
      "30\n",
      "30.0\n"
     ]
    }
   ],
   "source": [
    "insert_no = int(input('Enter no. of elements to be inserted:'))\n",
    "insert_list = []\n",
    "for i in range(insert_no):\n",
    "    insert_list.append(int(input('Enter element')))\n",
    "print('Inserted elements\\n:', insert_list)\n",
    "\n",
    "\n",
    "#positions\n",
    "x1 = 2\n",
    "x2 = 3\n",
    "x3 = 5\n",
    "\n",
    "\n",
    "x1new=insert_list[x1-1]\n",
    "x2new=insert_list[x2-1]\n",
    "x3new=insert_list[x3-1]\n",
    "print('x1:',x1new)\n",
    "print('x2:',x2new)\n",
    "print('x3:',x3new)\n",
    "\n",
    "\n",
    "\n",
    "def repeated(x,arr):\n",
    "    list=[]\n",
    "    count=0\n",
    "    for i in arr:\n",
    "        if x==i:\n",
    "            count=count+1\n",
    "            list.append(int(1))\n",
    "    print(f\"Occurrence of {x}:\",list,\"Count:\",count)\n",
    "    return count\n",
    "\n",
    "\n",
    "r1=repeated(x1new,insert_list)\n",
    "r2=repeated(x2new,insert_list)\n",
    "r3=repeated(x3new,insert_list)\n",
    "\n",
    "print(r1)\n",
    "\n",
    "\n",
    "def hash(n,r):\n",
    "    return (2*r-1)*n\n",
    "x1hash=hash(insert_no,r1)\n",
    "x2hash=hash(insert_no,r2)\n",
    "x3hash=hash(insert_no,r3)\n",
    "print(x1hash)\n",
    "print(x2hash)\n",
    "print(x3hash)\n",
    "\n",
    "\n",
    "\n",
    "surprise_no=(x1hash+x2hash+x3hash)/3\n",
    "print(surprise_no)"
   ]
  },
  {
   "cell_type": "code",
   "execution_count": null,
   "id": "67a85bc1-9386-492d-8678-26d5f165ab78",
   "metadata": {},
   "outputs": [],
   "source": []
  }
 ],
 "metadata": {
  "kernelspec": {
   "display_name": "Python 3 (ipykernel)",
   "language": "python",
   "name": "python3"
  },
  "language_info": {
   "codemirror_mode": {
    "name": "ipython",
    "version": 3
   },
   "file_extension": ".py",
   "mimetype": "text/x-python",
   "name": "python",
   "nbconvert_exporter": "python",
   "pygments_lexer": "ipython3",
   "version": "3.11.7"
  }
 },
 "nbformat": 4,
 "nbformat_minor": 5
}
